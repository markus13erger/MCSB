{
 "cells": [
  {
   "cell_type": "markdown",
   "metadata": {},
   "source": [
    "# MCSB Pre-Processing\n",
    "Lyrics data does not need to be pre processed.\n",
    "\n",
    "## Packages"
   ]
  },
  {
   "cell_type": "code",
   "execution_count": null,
   "metadata": {},
   "outputs": [],
   "source": [
    "#install.packages(\"jsonlite\")\n",
    "library(jsonlite)"
   ]
  },
  {
   "cell_type": "markdown",
   "metadata": {},
   "source": [
    "## Spotify Data"
   ]
  },
  {
   "cell_type": "code",
   "execution_count": 1,
   "metadata": {},
   "outputs": [
    {
     "ename": "ERROR",
     "evalue": "Error in fromJSON(\"C:/Users/User/Desktop/WS_2019_project_23/data/spotify_data.json\"): could not find function \"fromJSON\"\n",
     "output_type": "error",
     "traceback": [
      "Error in fromJSON(\"C:/Users/User/Desktop/WS_2019_project_23/data/spotify_data.json\"): could not find function \"fromJSON\"\nTraceback:\n"
     ]
    }
   ],
   "source": [
    "# import Spotify JSON file\n",
    "spotify <- fromJSON(\"./data/spotify_data.json\")\n",
    "\n",
    "# remove any songs that are played less than 10 seconds (skipped)\n",
    "spotify <- spotify[spotify$msPlayed > 10000, ]\n",
    "\n",
    "# save pre processed Spotify data as CSV file\n",
    "write.csv(spotify, \"./data/spotify_data.csv\")"
   ]
  },
  {
   "cell_type": "markdown",
   "metadata": {},
   "source": [
    "## Google Data"
   ]
  },
  {
   "cell_type": "code",
   "execution_count": null,
   "metadata": {},
   "outputs": [],
   "source": [
    "# import Google JSON file\n",
    "google <- fromJSON(\"./data/google_data.json\")\n",
    "\n",
    "# remove unnecessary columns\n",
    "google <- google[,c(2,4)]\n",
    "\n",
    "# remove unnecessary characters from the time stamp\n",
    "google$time <- gsub(\"T\", \"+\", google$time)\n",
    "google$time <- gsub(\"Z\", \"\", google$time)\n",
    "\n",
    "# remove the additionally added words to the searches\n",
    "google$title <- gsub(\"Nach \", \"\", google$title)\n",
    "google$title <- gsub(\" gesucht\", \"\", google$title)\n",
    "\n",
    "# remove all non-ASCII characters\n",
    "iconv(google, \"latin1\", \"ASCII\", sub=\"\")\n",
    "\n",
    "# remove all URLs\n",
    "google <- google[!startsWith(google[,1], \"http\"),]\n",
    "\n",
    "# rename columns\n",
    "colnames(google) <- c(\"words\", \"searchTime\")\n",
    "\n",
    "# reset the index\n",
    "rownames(google) <- NULL\n",
    "\n",
    "# save pre processed Google data as CSV file\n",
    "write.csv(google, \"./data/google_data.csv\")"
   ]
  }
 ],
 "metadata": {
  "kernelspec": {
   "display_name": "R",
   "language": "R",
   "name": "ir"
  },
  "language_info": {
   "codemirror_mode": "r",
   "file_extension": ".r",
   "mimetype": "text/x-r-source",
   "name": "R",
   "pygments_lexer": "r",
   "version": "3.6.1"
  }
 },
 "nbformat": 4,
 "nbformat_minor": 4
}
