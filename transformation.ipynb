{
 "cells": [
  {
   "cell_type": "markdown",
   "metadata": {},
   "source": [
    "# Additional Pre-Processing"
   ]
  },
  {
   "cell_type": "code",
   "execution_count": 1,
   "metadata": {},
   "outputs": [],
   "source": [
    "import pandas as pd"
   ]
  },
  {
   "cell_type": "code",
   "execution_count": 2,
   "metadata": {},
   "outputs": [],
   "source": [
    "df = pd.read_csv(\"./data/lyrics_data.csv\")"
   ]
  },
  {
   "cell_type": "code",
   "execution_count": 3,
   "metadata": {},
   "outputs": [
    {
     "data": {
      "text/html": [
       "<div>\n",
       "<style scoped>\n",
       "    .dataframe tbody tr th:only-of-type {\n",
       "        vertical-align: middle;\n",
       "    }\n",
       "\n",
       "    .dataframe tbody tr th {\n",
       "        vertical-align: top;\n",
       "    }\n",
       "\n",
       "    .dataframe thead th {\n",
       "        text-align: right;\n",
       "    }\n",
       "</style>\n",
       "<table border=\"1\" class=\"dataframe\">\n",
       "  <thead>\n",
       "    <tr style=\"text-align: right;\">\n",
       "      <th></th>\n",
       "      <th>Unnamed: 0</th>\n",
       "      <th>endTime</th>\n",
       "      <th>artistName</th>\n",
       "      <th>trackName</th>\n",
       "      <th>msPlayed</th>\n",
       "    </tr>\n",
       "  </thead>\n",
       "  <tbody>\n",
       "    <tr>\n",
       "      <td>0</td>\n",
       "      <td>2</td>\n",
       "      <td>2019-07-24 09:06</td>\n",
       "      <td>Alli Neumann</td>\n",
       "      <td>Banditen</td>\n",
       "      <td>27701</td>\n",
       "    </tr>\n",
       "    <tr>\n",
       "      <td>1</td>\n",
       "      <td>5</td>\n",
       "      <td>2019-07-24 09:10</td>\n",
       "      <td>Kraftklub</td>\n",
       "      <td>Kein Liebeslied</td>\n",
       "      <td>229947</td>\n",
       "    </tr>\n",
       "    <tr>\n",
       "      <td>2</td>\n",
       "      <td>6</td>\n",
       "      <td>2019-07-24 09:14</td>\n",
       "      <td>Kraftklub</td>\n",
       "      <td>Dein Lied</td>\n",
       "      <td>235546</td>\n",
       "    </tr>\n",
       "    <tr>\n",
       "      <td>3</td>\n",
       "      <td>7</td>\n",
       "      <td>2019-07-24 09:17</td>\n",
       "      <td>Kraftklub</td>\n",
       "      <td>Ich will nicht nach Berlin</td>\n",
       "      <td>202426</td>\n",
       "    </tr>\n",
       "    <tr>\n",
       "      <td>4</td>\n",
       "      <td>8</td>\n",
       "      <td>2019-07-24 09:21</td>\n",
       "      <td>Khalid</td>\n",
       "      <td>Better</td>\n",
       "      <td>229320</td>\n",
       "    </tr>\n",
       "  </tbody>\n",
       "</table>\n",
       "</div>"
      ],
      "text/plain": [
       "   Unnamed: 0           endTime    artistName                   trackName  \\\n",
       "0           2  2019-07-24 09:06  Alli Neumann                    Banditen   \n",
       "1           5  2019-07-24 09:10     Kraftklub             Kein Liebeslied   \n",
       "2           6  2019-07-24 09:14     Kraftklub                   Dein Lied   \n",
       "3           7  2019-07-24 09:17     Kraftklub  Ich will nicht nach Berlin   \n",
       "4           8  2019-07-24 09:21        Khalid                      Better   \n",
       "\n",
       "   msPlayed  \n",
       "0     27701  \n",
       "1    229947  \n",
       "2    235546  \n",
       "3    202426  \n",
       "4    229320  "
      ]
     },
     "execution_count": 3,
     "metadata": {},
     "output_type": "execute_result"
    }
   ],
   "source": [
    "spot = pd.read_csv(\"./data/spotify_data.csv\",encoding='latin1')\n",
    "spot = spot.loc[spot.artistName!=\"Vigiland\"] #vigiland songs are broken\n",
    "spot.reset_index(drop=True,inplace=True)\n",
    "spot.head(5)"
   ]
  },
  {
   "cell_type": "code",
   "execution_count": 4,
   "metadata": {
    "scrolled": true
   },
   "outputs": [
    {
     "data": {
      "text/html": [
       "<div>\n",
       "<style scoped>\n",
       "    .dataframe tbody tr th:only-of-type {\n",
       "        vertical-align: middle;\n",
       "    }\n",
       "\n",
       "    .dataframe tbody tr th {\n",
       "        vertical-align: top;\n",
       "    }\n",
       "\n",
       "    .dataframe thead th {\n",
       "        text-align: right;\n",
       "    }\n",
       "</style>\n",
       "<table border=\"1\" class=\"dataframe\">\n",
       "  <thead>\n",
       "    <tr style=\"text-align: right;\">\n",
       "      <th></th>\n",
       "      <th>search</th>\n",
       "      <th>words</th>\n",
       "      <th>searchTime</th>\n",
       "    </tr>\n",
       "  </thead>\n",
       "  <tbody>\n",
       "    <tr>\n",
       "      <td>0</td>\n",
       "      <td>1</td>\n",
       "      <td>google daten</td>\n",
       "      <td>2020-01-29+20:06:55.328</td>\n",
       "    </tr>\n",
       "    <tr>\n",
       "      <td>1</td>\n",
       "      <td>2</td>\n",
       "      <td>select only rows if its value in a particular ...</td>\n",
       "      <td>2020-01-29+19:59:39.879</td>\n",
       "    </tr>\n",
       "    <tr>\n",
       "      <td>2</td>\n",
       "      <td>3</td>\n",
       "      <td>r select rows with value in column</td>\n",
       "      <td>2020-01-29+19:59:36.708</td>\n",
       "    </tr>\n",
       "    <tr>\n",
       "      <td>3</td>\n",
       "      <td>4</td>\n",
       "      <td>Importing data from a JSON file into R - Stack...</td>\n",
       "      <td>2020-01-29+19:53:49.440</td>\n",
       "    </tr>\n",
       "    <tr>\n",
       "      <td>4</td>\n",
       "      <td>5</td>\n",
       "      <td>r read json</td>\n",
       "      <td>2020-01-29+19:53:24.214</td>\n",
       "    </tr>\n",
       "  </tbody>\n",
       "</table>\n",
       "</div>"
      ],
      "text/plain": [
       "   search                                              words  \\\n",
       "0       1                                       google daten   \n",
       "1       2  select only rows if its value in a particular ...   \n",
       "2       3                 r select rows with value in column   \n",
       "3       4  Importing data from a JSON file into R - Stack...   \n",
       "4       5                                        r read json   \n",
       "\n",
       "                searchTime  \n",
       "0  2020-01-29+20:06:55.328  \n",
       "1  2020-01-29+19:59:39.879  \n",
       "2  2020-01-29+19:59:36.708  \n",
       "3  2020-01-29+19:53:49.440  \n",
       "4  2020-01-29+19:53:24.214  "
      ]
     },
     "execution_count": 4,
     "metadata": {},
     "output_type": "execute_result"
    }
   ],
   "source": [
    "google = pd.read_csv(\"./data/google_data.csv\",encoding=\"latin1\")\n",
    "#google = google.drop([\"Unnamed: 0\"], axis=1)\n",
    "google.columns = [\"search\", \"words\", \"searchTime\"]\n",
    "google.reset_index(drop=True,inplace=True)\n",
    "google.head(5)"
   ]
  },
  {
   "cell_type": "code",
   "execution_count": 5,
   "metadata": {},
   "outputs": [],
   "source": [
    "tracklist = []\n",
    "for i in spot.trackName:\n",
    "    if i in df.song.unique():\n",
    "        tracklist.append(i)"
   ]
  },
  {
   "cell_type": "code",
   "execution_count": 6,
   "metadata": {},
   "outputs": [],
   "source": [
    "df = df[df['song'].isin(tracklist)]\n",
    "df.replace(\"\\n\", '', regex=True,inplace=True) #For Line Breaks in Lyrics text\n",
    "df.reset_index(drop=True,inplace=True)"
   ]
  },
  {
   "cell_type": "code",
   "execution_count": 7,
   "metadata": {},
   "outputs": [],
   "source": [
    "#spot = spot[spot[\"trackName\"].isin(tracklist)]\n",
    "#spot.reset_index(drop=True,inplace=True)"
   ]
  },
  {
   "cell_type": "code",
   "execution_count": 9,
   "metadata": {},
   "outputs": [],
   "source": [
    "from rdflib import URIRef, BNode, Literal, Namespace, Graph\n",
    "from rdflib.namespace import RDF, FOAF"
   ]
  },
  {
   "cell_type": "code",
   "execution_count": 10,
   "metadata": {},
   "outputs": [],
   "source": [
    "df.song.replace(' ', '+', regex=True,inplace=True)\n",
    "df.artist.replace(\" \",\"+\",regex=True,inplace=True)"
   ]
  },
  {
   "cell_type": "code",
   "execution_count": 11,
   "metadata": {},
   "outputs": [
    {
     "data": {
      "text/html": [
       "<div>\n",
       "<style scoped>\n",
       "    .dataframe tbody tr th:only-of-type {\n",
       "        vertical-align: middle;\n",
       "    }\n",
       "\n",
       "    .dataframe tbody tr th {\n",
       "        vertical-align: top;\n",
       "    }\n",
       "\n",
       "    .dataframe thead th {\n",
       "        text-align: right;\n",
       "    }\n",
       "</style>\n",
       "<table border=\"1\" class=\"dataframe\">\n",
       "  <thead>\n",
       "    <tr style=\"text-align: right;\">\n",
       "      <th></th>\n",
       "      <th>artist</th>\n",
       "      <th>song</th>\n",
       "      <th>link</th>\n",
       "      <th>text</th>\n",
       "    </tr>\n",
       "  </thead>\n",
       "  <tbody>\n",
       "    <tr>\n",
       "      <td>0</td>\n",
       "      <td>ABBA</td>\n",
       "      <td>Dancing+Queen</td>\n",
       "      <td>/a/abba/dancing+queen_20002554.html</td>\n",
       "      <td>You can dance, you can jive, having the time o...</td>\n",
       "    </tr>\n",
       "    <tr>\n",
       "      <td>1</td>\n",
       "      <td>ABBA</td>\n",
       "      <td>Lay+All+Your+Love+On+Me</td>\n",
       "      <td>/a/abba/lay+all+your+love+on+me_20002834.html</td>\n",
       "      <td>I wasn't jealous before we met  Now every woma...</td>\n",
       "    </tr>\n",
       "    <tr>\n",
       "      <td>2</td>\n",
       "      <td>ABBA</td>\n",
       "      <td>SOS</td>\n",
       "      <td>/a/abba/sos_20957357.html</td>\n",
       "      <td>And when I see the sign that points one way  T...</td>\n",
       "    </tr>\n",
       "    <tr>\n",
       "      <td>3</td>\n",
       "      <td>Adele</td>\n",
       "      <td>Hello</td>\n",
       "      <td>/a/adele/hello_21103519.html</td>\n",
       "      <td>[Verse 1]  Hello, it's me  I was wondering if ...</td>\n",
       "    </tr>\n",
       "    <tr>\n",
       "      <td>4</td>\n",
       "      <td>Aerosmith</td>\n",
       "      <td>Somebody</td>\n",
       "      <td>/a/aerosmith/somebody_20004214.html</td>\n",
       "      <td>I need a lady, not somebody shady  Need someon...</td>\n",
       "    </tr>\n",
       "  </tbody>\n",
       "</table>\n",
       "</div>"
      ],
      "text/plain": [
       "      artist                     song  \\\n",
       "0       ABBA            Dancing+Queen   \n",
       "1       ABBA  Lay+All+Your+Love+On+Me   \n",
       "2       ABBA                      SOS   \n",
       "3      Adele                    Hello   \n",
       "4  Aerosmith                 Somebody   \n",
       "\n",
       "                                            link  \\\n",
       "0            /a/abba/dancing+queen_20002554.html   \n",
       "1  /a/abba/lay+all+your+love+on+me_20002834.html   \n",
       "2                      /a/abba/sos_20957357.html   \n",
       "3                   /a/adele/hello_21103519.html   \n",
       "4            /a/aerosmith/somebody_20004214.html   \n",
       "\n",
       "                                                text  \n",
       "0  You can dance, you can jive, having the time o...  \n",
       "1  I wasn't jealous before we met  Now every woma...  \n",
       "2  And when I see the sign that points one way  T...  \n",
       "3  [Verse 1]  Hello, it's me  I was wondering if ...  \n",
       "4  I need a lady, not somebody shady  Need someon...  "
      ]
     },
     "execution_count": 11,
     "metadata": {},
     "output_type": "execute_result"
    }
   ],
   "source": [
    "df.head(5)"
   ]
  },
  {
   "cell_type": "code",
   "execution_count": 16,
   "metadata": {},
   "outputs": [
    {
     "name": "stderr",
     "output_type": "stream",
     "text": [
      "[nltk_data] Downloading package stopwords to\n",
      "[nltk_data]     /Users/markusberger/nltk_data...\n",
      "[nltk_data]   Unzipping corpora/stopwords.zip.\n"
     ]
    }
   ],
   "source": [
    "import nltk\n",
    "nltk.download('stopwords')\n",
    "from nltk.corpus import stopwords\n",
    "import re\n",
    "\n",
    "for i in range(0,len(df)):\n",
    "    df.text[i] = re.sub('\\W+',' ', df.text[i] )"
   ]
  },
  {
   "cell_type": "code",
   "execution_count": 17,
   "metadata": {},
   "outputs": [
    {
     "name": "stderr",
     "output_type": "stream",
     "text": [
      "/Users/markusberger/opt/anaconda3/lib/python3.7/site-packages/ipykernel_launcher.py:2: SettingWithCopyWarning: \n",
      "A value is trying to be set on a copy of a slice from a DataFrame\n",
      "\n",
      "See the caveats in the documentation: http://pandas.pydata.org/pandas-docs/stable/user_guide/indexing.html#returning-a-view-versus-a-copy\n",
      "  \n"
     ]
    }
   ],
   "source": [
    "for i in range(0,len(google)):\n",
    "    google.words[i] = re.sub('\\W+',' ', google.words[i])"
   ]
  },
  {
   "cell_type": "markdown",
   "metadata": {},
   "source": [
    "# RDF Graph Generation"
   ]
  },
  {
   "cell_type": "code",
   "execution_count": 18,
   "metadata": {},
   "outputs": [
    {
     "name": "stdout",
     "output_type": "stream",
     "text": [
      "graph has 49657 statements.\n"
     ]
    }
   ],
   "source": [
    "g = Graph()\n",
    "a = Namespace(\"lyrics/artist/\")\n",
    "s = Namespace(\"lyrics/song/\")\n",
    "t = Namespace(\"lyrics/text/\")\n",
    "for i in range(0,len(df)):\n",
    "    artist = a[df.artist[i]]\n",
    "    track = s[df.song[i]]\n",
    "    g.add((artist,RDF.type,FOAF.Artist))\n",
    "    g.add((artist,FOAF.name,Literal(df.artist[i])))\n",
    "    g.add((track,RDF.type,FOAF.Song))\n",
    "    g.add((track,FOAF.title,Literal(df.song[i])))\n",
    "    g.add((artist, FOAF.sings, track))\n",
    "    filtered = [word for word in df.text[i].split() if word not in stopwords.words('english')]\n",
    "    for j in filtered:\n",
    "        word = t[j]\n",
    "        g.add((word,RDF.type,FOAF.Word))\n",
    "        g.add((word,FOAF.value,Literal(j)))\n",
    "        g.add((track, FOAF.song_contains, word))\n",
    "        \n",
    "    #This statement provides information about the progress of the loob\n",
    "    #Shows all Artists. Last Artist = Zebrahead (ordered alphabetically)\n",
    "    #print(artist)\n",
    "\n",
    "    \n",
    "g.bind(\"foaf\", FOAF)\n",
    "#g.serialize(destination='lyrics.txt', format='xml')\n",
    "#g.serialize(destination='lyrics.rdf', format='xml')\n",
    "\n",
    "print(\"graph has %s statements.\" % len(g))"
   ]
  },
  {
   "cell_type": "code",
   "execution_count": 19,
   "metadata": {},
   "outputs": [
    {
     "name": "stdout",
     "output_type": "stream",
     "text": [
      "graph has 20881 statements.\n"
     ]
    }
   ],
   "source": [
    "g = Graph()\n",
    "s = Namespace(\"google/search/\")\n",
    "t = Namespace(\"google/searchTime/\")\n",
    "w = Namespace(\"google/words/\")\n",
    "for i in range(0,len(google)):\n",
    "    search = s[google.search[i]]\n",
    "    searchTime = t[google.searchTime[i]]\n",
    "    \n",
    "    g.add((search,RDF.type,FOAF.Search))\n",
    "    g.add((search,FOAF.id,Literal(google.search[i])))\n",
    "    \n",
    "    g.add((searchTime,RDF.type,FOAF.SearchTime))\n",
    "    g.add((searchTime,FOAF.time,Literal(google.searchTime[i])))\n",
    "    \n",
    "    g.add((search,FOAF.searched_at,searchTime))\n",
    "    \n",
    "    filtered = [word for word in google.words[i].split() if word not in stopwords.words('english')]\n",
    "    for j in filtered:\n",
    "        word = w[j]\n",
    "        g.add((word,RDF.type,FOAF.Word))\n",
    "        g.add((word,FOAF.value,Literal(j)))\n",
    "        g.add((search, FOAF.search_contains, word))\n",
    "        \n",
    "    #This statement provides information about the progress of the loob\n",
    "    #Shows all Artists. Last Artist = Zebrahead (ordered alphabetically)\n",
    "    #print(artist)\n",
    "\n",
    "    \n",
    "g.bind(\"foaf\", FOAF)\n",
    "#g.serialize(destination='google_data.txt', format='xml')\n",
    "#g.serialize(destination='google_data.rdf', format='xml')\n",
    "\n",
    "print(\"graph has %s statements.\" % len(g))"
   ]
  },
  {
   "cell_type": "code",
   "execution_count": 20,
   "metadata": {},
   "outputs": [],
   "source": [
    "spot.artistName.replace(' ', '+', regex=True,inplace=True)\n",
    "spot.trackName.replace(\" \",\"+\",regex=True,inplace=True)\n",
    "spot.trackName.replace('\"',\"+\",regex=True,inplace=True)\n",
    "spot.trackName.replace(',',\"+\",regex=True,inplace=True)\n",
    "\n",
    "\n",
    "#Remove some values by hand because not possible in RDF:\n",
    "spot = spot[spot.artistName!=\"Axwell+/\\+Ingrosso\"]\n",
    "#spot = spot[spot.trackName!=\"Friday+Night<U+202C><U+202C><U+202C\"]\n",
    "#spot.loc[\"Friday+Night\" in spot.trackName]\n",
    "spot.reset_index(drop=True,inplace=True)\n",
    "\n",
    "spot_artist = pd.DataFrame(spot.groupby(\"artistName\")[\"msPlayed\"].sum()).reset_index()"
   ]
  },
  {
   "cell_type": "code",
   "execution_count": 21,
   "metadata": {},
   "outputs": [
    {
     "name": "stdout",
     "output_type": "stream",
     "text": [
      "graph has 8538 statements.\n"
     ]
    }
   ],
   "source": [
    "h = Graph()\n",
    "a = Namespace(\"spotify/artist/\")\n",
    "s = Namespace(\"spotify/song/\")\n",
    "t1 = Namespace(\"spotify/tracktime/\")\n",
    "t2 = Namespace(\"spotify/artisttime/\")\n",
    "for i in range(0,len(spot)):\n",
    "    artist = a[spot.artistName[i]]\n",
    "    track = s[spot.trackName[i]]\n",
    "    tracktime = t1[spot.trackName[i]]\n",
    "    artisttime = t2[spot.artistName[i]]\n",
    "    \n",
    "    h.add((artist,RDF.type,FOAF.Artist))\n",
    "    h.add((artist,FOAF.name,Literal(spot.artistName[i])))\n",
    "    \n",
    "    h.add((track,RDF.type,FOAF.Song))\n",
    "    h.add((track,FOAF.title,Literal(spot.trackName[i])))\n",
    "    \n",
    "    h.add((tracktime,RDF.type,FOAF.Song_Played_ms))\n",
    "    h.add((tracktime,FOAF.Song_ms,Literal(spot.msPlayed[i])))\n",
    "    \n",
    "    h.add((artisttime,RDF.type,FOAF.Artist_Played_ms))\n",
    "    h.add((artisttime,FOAF.Artist_ms,Literal(int(spot_artist.loc[spot_artist.artistName==spot.artistName[i],\"msPlayed\"]))))\n",
    "    \n",
    "    \n",
    "    h.add((artist, FOAF.sings, track))\n",
    "    h.add((track, FOAF.time_listened_song,tracktime))\n",
    "    h.add((artist, FOAF.time_listened_artist,artisttime))\n",
    "\n",
    "        \n",
    "    #This statement provides information about the progress of the loob\n",
    "    #Shows all Artists. Last Artist = Zebrahead (ordered alphabetically)\n",
    "    #print(artist)\n",
    "\n",
    "    \n",
    "h.bind(\"foaf\", FOAF)\n",
    "#h.serialize(destination='times.txt', format='xml')\n",
    "#h.serialize(destination='times.rdf', format='xml')\n",
    "\n",
    "print(\"graph has %s statements.\" % len(h))"
   ]
  },
  {
   "cell_type": "markdown",
   "metadata": {},
   "source": [
    "# Full RDF\n",
    "need to execute both parts!\n"
   ]
  },
  {
   "cell_type": "code",
   "execution_count": 22,
   "metadata": {},
   "outputs": [],
   "source": [
    "g = Graph()\n",
    "a = Namespace(\"MCSB/artist/\")\n",
    "s = Namespace(\"MCSB/song/\")\n",
    "w = Namespace(\"MCSB/word/\")\n",
    "t = Namespace(\"MCSB/searchTime/\")\n",
    "\n",
    "markus = URIRef(\"MCSB/Markus\")\n",
    "g.add( (markus, RDF.type, FOAF.User) )\n",
    "g.add( (markus, FOAF.name, Literal(\"Markus\")))\n",
    "g.add( (markus, FOAF.surname, Literal(\"Unknown\")))\n",
    "g.add( (markus, FOAF.height, Literal(185)))\n",
    "g.add( (markus, FOAF.age, Literal(22)))\n",
    "\n",
    "for i in range(0,len(df)):\n",
    "    artist = a[df.artist[i]]\n",
    "    track = s[df.song[i]]\n",
    "    g.add((artist,RDF.type,FOAF.Artist))\n",
    "    g.add((artist,FOAF.name,Literal(df.artist[i])))\n",
    "    g.add((track,RDF.type,FOAF.Song))\n",
    "    g.add((track,FOAF.title,Literal(df.song[i])))\n",
    "    g.add((artist, FOAF.performs, track))\n",
    "    filtered = [word for word in df.text[i].split() if word not in stopwords.words('english')]\n",
    "    for j in filtered:\n",
    "        word = w[j]\n",
    "        g.add((word,RDF.type,FOAF.Word))\n",
    "        g.add((word,FOAF.value,Literal(j)))\n",
    "        g.add((track, FOAF.song_contains, word))"
   ]
  },
  {
   "cell_type": "code",
   "execution_count": 23,
   "metadata": {},
   "outputs": [
    {
     "name": "stdout",
     "output_type": "stream",
     "text": [
      "graph has 81855 statements.\n"
     ]
    }
   ],
   "source": [
    "for i in range(0,len(google)):\n",
    "    search = w[str(google.search[i])]\n",
    "    searchTime = t[google.searchTime[i]]\n",
    "    \n",
    "    g.add((search,RDF.type,FOAF.Search))\n",
    "    g.add((search,FOAF.id,Literal(google.search[i])))\n",
    "    g.add((search,FOAF.time,Literal(google.searchTime[i])))\n",
    "    \n",
    "    \n",
    "    g.add((markus,FOAF.searched,search))\n",
    "    \n",
    "    filtered = [word for word in google.words[i].split() if word not in stopwords.words('english')]\n",
    "    for j in filtered:\n",
    "        word = w[j]\n",
    "        g.add((word,RDF.type,FOAF.Word))\n",
    "        g.add((word,FOAF.value,Literal(j)))\n",
    "        g.add((search, FOAF.search_contains, word))\n",
    "\n",
    "        \n",
    "for i in range(0,len(spot)):\n",
    "    artist = a[spot.artistName[i]]\n",
    "    track = s[spot.trackName[i]]\n",
    "    \n",
    "    g.add((artist,RDF.type,FOAF.Artist))\n",
    "    g.add((artist,FOAF.name,Literal(spot.artistName[i])))\n",
    "    g.add((artist,FOAF.artist_ms,Literal(int(spot_artist.loc[spot_artist.artistName==spot.artistName[i],\"msPlayed\"]))))\n",
    "    \n",
    "    g.add((track,RDF.type,FOAF.Song))\n",
    "    g.add((track,FOAF.title,Literal(spot.trackName[i])))\n",
    "    g.add((track,FOAF.song_ms,Literal(spot.msPlayed[i])))\n",
    "    \n",
    "    \n",
    "    g.add((artist, FOAF.performs, track))\n",
    "    g.add((markus, FOAF.song_listened,track))\n",
    "    g.add((markus, FOAF.artist_listened,artist))\n",
    "\n",
    "\n",
    "    \n",
    "g.bind(\"foaf\", FOAF)\n",
    "#g.serialize(destination='MCSB.txt', format='xml')\n",
    "g.serialize(destination='MCSB.rdf', format='xml')\n",
    "\n",
    "print(\"graph has %s statements.\" % len(g))"
   ]
  }
 ],
 "metadata": {
  "kernelspec": {
   "display_name": "Python 3",
   "language": "python",
   "name": "python3"
  },
  "language_info": {
   "codemirror_mode": {
    "name": "ipython",
    "version": 3
   },
   "file_extension": ".py",
   "mimetype": "text/x-python",
   "name": "python",
   "nbconvert_exporter": "python",
   "pygments_lexer": "ipython3",
   "version": "3.7.4"
  }
 },
 "nbformat": 4,
 "nbformat_minor": 2
}
